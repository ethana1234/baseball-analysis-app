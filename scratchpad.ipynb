{
 "cells": [
  {
   "cell_type": "code",
   "execution_count": 134,
   "metadata": {},
   "outputs": [],
   "source": [
    "import pandas as pd\n",
    "import numpy as np\n",
    "from bs4 import BeautifulSoup\n",
    "import requests\n",
    "import sys\n",
    "from lxml import html"
   ]
  },
  {
   "cell_type": "code",
   "execution_count": 2,
   "metadata": {},
   "outputs": [],
   "source": [
    "response = requests.get('https://www.baseball-reference.com/teams/tgl.cgi?team=PHI&t=b&year=2020')"
   ]
  },
  {
   "cell_type": "code",
   "execution_count": 7,
   "metadata": {},
   "outputs": [],
   "source": [
    "soup = BeautifulSoup(response.content, \"lxml\")"
   ]
  },
  {
   "cell_type": "code",
   "execution_count": 10,
   "metadata": {},
   "outputs": [],
   "source": [
    "table = soup.find('table')"
   ]
  },
  {
   "cell_type": "code",
   "execution_count": 159,
   "metadata": {},
   "outputs": [],
   "source": [
    "pd.set_option('display.max_rows', 15)\n"
   ]
  },
  {
   "cell_type": "code",
   "execution_count": 160,
   "metadata": {},
   "outputs": [
    {
     "output_type": "execute_result",
     "data": {
      "text/plain": "            team_id    Date Home/Away  Opp Result  Runs Against  PA  AB   R  \\\ngame_id                                                                       \n8370505         225  Aug 9          H  ATL      L             5  30  23   2   \n13264862        225  Jul 24         H  MIA      L             5  34  31   2   \n34443936        225  Aug 30         H  ATL      L            12  42  39  10   \n39306724        225   Aug 6         H  NYY      W             4  35  31   5   \n43211941        225  Aug 29         H  ATL      W             1  34  28   4   \n...             ...     ...       ...  ...    ...           ...  ..  ..  ..   \n2051519245      225  Aug 20         A  TOR      L             3  28  26   2   \n2058099105      225  Aug 20         A  TOR      L             9  34  29   8   \n2098089197      225  Aug 16         H  NYM      W             2  38  37   6   \n2099235042      225  Aug 10         H  ATL      W             8  43  38  13   \n2137320023      225   Sep 1         H  WSN      W             0  42  33   6   \n\n             H  2B  3B  HR  RBI  BB  IBB  SO  HBP  SH  SF  ROE  GDP  SB  CS  \\\ngame_id                                                                       \n8370505      3   1   0   0    2   6    0   3    0   0   1    0    0   1   0   \n13264862     5   0   0   1    1   3    0   8    0   0   0    1    2   0   0   \n34443936    13   2   1   4   10   2    0   8    1   0   0    0    1   0   0   \n39306724     8   2   1   1    5   4    0   8    0   0   0    0    0   0   0   \n43211941     7   2   0   1    4   2    0   4    2   1   1    0    1   1   0   \n...         ..  ..  ..  ..  ...  ..  ...  ..  ...  ..  ..  ...  ...  ..  ..   \n2051519245   6   0   0   1    2   1    0  11    1   0   0    0    1   1   0   \n2058099105   9   3   0   0    8   3    0   9    1   0   1    0    0   0   0   \n2098089197  14   2   1   1    5   1    1   8    0   0   0    1    1   0   0   \n2099235042  14   1   0   5   12   4    0  10    1   0   0    1    1   0   0   \n2137320023   8   2   0   2    6   9    0   5    0   0   0    0    0   1   0   \n\n            LOB  Players Used     BA    OBP    SLG    OPS Opp Starter Thr  \ngame_id                                                                    \n8370505       7            11  0.236  0.342  0.420  0.762               R  \n13264862      5             9  0.161  0.235  0.258  0.493               R  \n34443936      5             9  0.262  0.344  0.462  0.806               L  \n39306724      6            10  0.243  0.346  0.432  0.779               L  \n43211941      6            11  0.259  0.343  0.450  0.793               R  \n...         ...           ...    ...    ...    ...    ...             ...  \n2051519245    5             9  0.259  0.341  0.459  0.800               R  \n2058099105    5            11  0.261  0.343  0.457  0.800               R  \n2098089197    8            11  0.261  0.343  0.460  0.803               R  \n2099235042    6            13  0.245  0.344  0.445  0.790               L  \n2137320023   12            11  0.261  0.345  0.465  0.810               L  \n\n[60 rows x 31 columns]",
      "text/html": "<div>\n<style scoped>\n    .dataframe tbody tr th:only-of-type {\n        vertical-align: middle;\n    }\n\n    .dataframe tbody tr th {\n        vertical-align: top;\n    }\n\n    .dataframe thead th {\n        text-align: right;\n    }\n</style>\n<table border=\"1\" class=\"dataframe\">\n  <thead>\n    <tr style=\"text-align: right;\">\n      <th></th>\n      <th>team_id</th>\n      <th>Date</th>\n      <th>Home/Away</th>\n      <th>Opp</th>\n      <th>Result</th>\n      <th>Runs Against</th>\n      <th>PA</th>\n      <th>AB</th>\n      <th>R</th>\n      <th>H</th>\n      <th>2B</th>\n      <th>3B</th>\n      <th>HR</th>\n      <th>RBI</th>\n      <th>BB</th>\n      <th>IBB</th>\n      <th>SO</th>\n      <th>HBP</th>\n      <th>SH</th>\n      <th>SF</th>\n      <th>ROE</th>\n      <th>GDP</th>\n      <th>SB</th>\n      <th>CS</th>\n      <th>LOB</th>\n      <th>Players Used</th>\n      <th>BA</th>\n      <th>OBP</th>\n      <th>SLG</th>\n      <th>OPS</th>\n      <th>Opp Starter Thr</th>\n    </tr>\n    <tr>\n      <th>game_id</th>\n      <th></th>\n      <th></th>\n      <th></th>\n      <th></th>\n      <th></th>\n      <th></th>\n      <th></th>\n      <th></th>\n      <th></th>\n      <th></th>\n      <th></th>\n      <th></th>\n      <th></th>\n      <th></th>\n      <th></th>\n      <th></th>\n      <th></th>\n      <th></th>\n      <th></th>\n      <th></th>\n      <th></th>\n      <th></th>\n      <th></th>\n      <th></th>\n      <th></th>\n      <th></th>\n      <th></th>\n      <th></th>\n      <th></th>\n      <th></th>\n      <th></th>\n    </tr>\n  </thead>\n  <tbody>\n    <tr>\n      <th>8370505</th>\n      <td>225</td>\n      <td>Aug 9</td>\n      <td>H</td>\n      <td>ATL</td>\n      <td>L</td>\n      <td>5</td>\n      <td>30</td>\n      <td>23</td>\n      <td>2</td>\n      <td>3</td>\n      <td>1</td>\n      <td>0</td>\n      <td>0</td>\n      <td>2</td>\n      <td>6</td>\n      <td>0</td>\n      <td>3</td>\n      <td>0</td>\n      <td>0</td>\n      <td>1</td>\n      <td>0</td>\n      <td>0</td>\n      <td>1</td>\n      <td>0</td>\n      <td>7</td>\n      <td>11</td>\n      <td>0.236</td>\n      <td>0.342</td>\n      <td>0.420</td>\n      <td>0.762</td>\n      <td>R</td>\n    </tr>\n    <tr>\n      <th>13264862</th>\n      <td>225</td>\n      <td>Jul 24</td>\n      <td>H</td>\n      <td>MIA</td>\n      <td>L</td>\n      <td>5</td>\n      <td>34</td>\n      <td>31</td>\n      <td>2</td>\n      <td>5</td>\n      <td>0</td>\n      <td>0</td>\n      <td>1</td>\n      <td>1</td>\n      <td>3</td>\n      <td>0</td>\n      <td>8</td>\n      <td>0</td>\n      <td>0</td>\n      <td>0</td>\n      <td>1</td>\n      <td>2</td>\n      <td>0</td>\n      <td>0</td>\n      <td>5</td>\n      <td>9</td>\n      <td>0.161</td>\n      <td>0.235</td>\n      <td>0.258</td>\n      <td>0.493</td>\n      <td>R</td>\n    </tr>\n    <tr>\n      <th>34443936</th>\n      <td>225</td>\n      <td>Aug 30</td>\n      <td>H</td>\n      <td>ATL</td>\n      <td>L</td>\n      <td>12</td>\n      <td>42</td>\n      <td>39</td>\n      <td>10</td>\n      <td>13</td>\n      <td>2</td>\n      <td>1</td>\n      <td>4</td>\n      <td>10</td>\n      <td>2</td>\n      <td>0</td>\n      <td>8</td>\n      <td>1</td>\n      <td>0</td>\n      <td>0</td>\n      <td>0</td>\n      <td>1</td>\n      <td>0</td>\n      <td>0</td>\n      <td>5</td>\n      <td>9</td>\n      <td>0.262</td>\n      <td>0.344</td>\n      <td>0.462</td>\n      <td>0.806</td>\n      <td>L</td>\n    </tr>\n    <tr>\n      <th>39306724</th>\n      <td>225</td>\n      <td>Aug 6</td>\n      <td>H</td>\n      <td>NYY</td>\n      <td>W</td>\n      <td>4</td>\n      <td>35</td>\n      <td>31</td>\n      <td>5</td>\n      <td>8</td>\n      <td>2</td>\n      <td>1</td>\n      <td>1</td>\n      <td>5</td>\n      <td>4</td>\n      <td>0</td>\n      <td>8</td>\n      <td>0</td>\n      <td>0</td>\n      <td>0</td>\n      <td>0</td>\n      <td>0</td>\n      <td>0</td>\n      <td>0</td>\n      <td>6</td>\n      <td>10</td>\n      <td>0.243</td>\n      <td>0.346</td>\n      <td>0.432</td>\n      <td>0.779</td>\n      <td>L</td>\n    </tr>\n    <tr>\n      <th>43211941</th>\n      <td>225</td>\n      <td>Aug 29</td>\n      <td>H</td>\n      <td>ATL</td>\n      <td>W</td>\n      <td>1</td>\n      <td>34</td>\n      <td>28</td>\n      <td>4</td>\n      <td>7</td>\n      <td>2</td>\n      <td>0</td>\n      <td>1</td>\n      <td>4</td>\n      <td>2</td>\n      <td>0</td>\n      <td>4</td>\n      <td>2</td>\n      <td>1</td>\n      <td>1</td>\n      <td>0</td>\n      <td>1</td>\n      <td>1</td>\n      <td>0</td>\n      <td>6</td>\n      <td>11</td>\n      <td>0.259</td>\n      <td>0.343</td>\n      <td>0.450</td>\n      <td>0.793</td>\n      <td>R</td>\n    </tr>\n    <tr>\n      <th>...</th>\n      <td>...</td>\n      <td>...</td>\n      <td>...</td>\n      <td>...</td>\n      <td>...</td>\n      <td>...</td>\n      <td>...</td>\n      <td>...</td>\n      <td>...</td>\n      <td>...</td>\n      <td>...</td>\n      <td>...</td>\n      <td>...</td>\n      <td>...</td>\n      <td>...</td>\n      <td>...</td>\n      <td>...</td>\n      <td>...</td>\n      <td>...</td>\n      <td>...</td>\n      <td>...</td>\n      <td>...</td>\n      <td>...</td>\n      <td>...</td>\n      <td>...</td>\n      <td>...</td>\n      <td>...</td>\n      <td>...</td>\n      <td>...</td>\n      <td>...</td>\n      <td>...</td>\n    </tr>\n    <tr>\n      <th>2051519245</th>\n      <td>225</td>\n      <td>Aug 20</td>\n      <td>A</td>\n      <td>TOR</td>\n      <td>L</td>\n      <td>3</td>\n      <td>28</td>\n      <td>26</td>\n      <td>2</td>\n      <td>6</td>\n      <td>0</td>\n      <td>0</td>\n      <td>1</td>\n      <td>2</td>\n      <td>1</td>\n      <td>0</td>\n      <td>11</td>\n      <td>1</td>\n      <td>0</td>\n      <td>0</td>\n      <td>0</td>\n      <td>1</td>\n      <td>1</td>\n      <td>0</td>\n      <td>5</td>\n      <td>9</td>\n      <td>0.259</td>\n      <td>0.341</td>\n      <td>0.459</td>\n      <td>0.800</td>\n      <td>R</td>\n    </tr>\n    <tr>\n      <th>2058099105</th>\n      <td>225</td>\n      <td>Aug 20</td>\n      <td>A</td>\n      <td>TOR</td>\n      <td>L</td>\n      <td>9</td>\n      <td>34</td>\n      <td>29</td>\n      <td>8</td>\n      <td>9</td>\n      <td>3</td>\n      <td>0</td>\n      <td>0</td>\n      <td>8</td>\n      <td>3</td>\n      <td>0</td>\n      <td>9</td>\n      <td>1</td>\n      <td>0</td>\n      <td>1</td>\n      <td>0</td>\n      <td>0</td>\n      <td>0</td>\n      <td>0</td>\n      <td>5</td>\n      <td>11</td>\n      <td>0.261</td>\n      <td>0.343</td>\n      <td>0.457</td>\n      <td>0.800</td>\n      <td>R</td>\n    </tr>\n    <tr>\n      <th>2098089197</th>\n      <td>225</td>\n      <td>Aug 16</td>\n      <td>H</td>\n      <td>NYM</td>\n      <td>W</td>\n      <td>2</td>\n      <td>38</td>\n      <td>37</td>\n      <td>6</td>\n      <td>14</td>\n      <td>2</td>\n      <td>1</td>\n      <td>1</td>\n      <td>5</td>\n      <td>1</td>\n      <td>1</td>\n      <td>8</td>\n      <td>0</td>\n      <td>0</td>\n      <td>0</td>\n      <td>1</td>\n      <td>1</td>\n      <td>0</td>\n      <td>0</td>\n      <td>8</td>\n      <td>11</td>\n      <td>0.261</td>\n      <td>0.343</td>\n      <td>0.460</td>\n      <td>0.803</td>\n      <td>R</td>\n    </tr>\n    <tr>\n      <th>2099235042</th>\n      <td>225</td>\n      <td>Aug 10</td>\n      <td>H</td>\n      <td>ATL</td>\n      <td>W</td>\n      <td>8</td>\n      <td>43</td>\n      <td>38</td>\n      <td>13</td>\n      <td>14</td>\n      <td>1</td>\n      <td>0</td>\n      <td>5</td>\n      <td>12</td>\n      <td>4</td>\n      <td>0</td>\n      <td>10</td>\n      <td>1</td>\n      <td>0</td>\n      <td>0</td>\n      <td>1</td>\n      <td>1</td>\n      <td>0</td>\n      <td>0</td>\n      <td>6</td>\n      <td>13</td>\n      <td>0.245</td>\n      <td>0.344</td>\n      <td>0.445</td>\n      <td>0.790</td>\n      <td>L</td>\n    </tr>\n    <tr>\n      <th>2137320023</th>\n      <td>225</td>\n      <td>Sep 1</td>\n      <td>H</td>\n      <td>WSN</td>\n      <td>W</td>\n      <td>0</td>\n      <td>42</td>\n      <td>33</td>\n      <td>6</td>\n      <td>8</td>\n      <td>2</td>\n      <td>0</td>\n      <td>2</td>\n      <td>6</td>\n      <td>9</td>\n      <td>0</td>\n      <td>5</td>\n      <td>0</td>\n      <td>0</td>\n      <td>0</td>\n      <td>0</td>\n      <td>0</td>\n      <td>1</td>\n      <td>0</td>\n      <td>12</td>\n      <td>11</td>\n      <td>0.261</td>\n      <td>0.345</td>\n      <td>0.465</td>\n      <td>0.810</td>\n      <td>L</td>\n    </tr>\n  </tbody>\n</table>\n<p>60 rows × 31 columns</p>\n</div>"
     },
     "metadata": {},
     "execution_count": 160
    }
   ],
   "source": [
    "data = pd.read_html(str(table))[0]\n",
    "data.rename(columns={'Unnamed: 3':'Home/Away', 'Thr':'Opp Starter Thr', '#':'Players Used'}, inplace=True)\n",
    "data.drop(data[data['OBP'] == 'OBP'].index, inplace=True)\n",
    "data.replace({'Home/Away': {'@':'A'}}, inplace=True)\n",
    "data['Home/Away'].fillna('H', inplace=True)\n",
    "data[['Result', 'Runs Against']] = data['Rslt'].str.split(',', expand=True)\n",
    "data['Runs Against'] = data['Runs Against'].str.split('-').str[1]\n",
    "data['Date'] = data['Date'].str.slice(stop=6)\n",
    "data.drop(columns=['Rslt', 'Rk', 'Gtm', 'Opp. Starter (GmeSc)'], inplace=True)\n",
    "game_ids = [hash(data['Date'].iloc[i] + ((data['Opp'].iloc[i] + 'PHI') if data['Home/Away'].iloc[i] == 'H' else ('PHI' + data['Opp'].iloc[i])) + str(data['R'].iloc[i] + data['Runs Against'].iloc[i])) % 2147483647 for i in range(len(data.index))]\n",
    "data['game_id'] = game_ids\n",
    "team_code = 'PHI'\n",
    "team_ids = [sum([ord(char) for char in team_code]) for i in range(len(data.index))]\n",
    "data['team_id'] = team_ids\n",
    "data.set_index('game_id', inplace=True)\n",
    "data = data[['team_id', 'Date', 'Home/Away', 'Opp', 'Result', 'Runs Against', 'PA', 'AB', 'R', 'H', '2B', '3B', 'HR', 'RBI', 'BB', 'IBB', 'SO', 'HBP', 'SH', 'SF',\n",
    " 'ROE', 'GDP', 'SB', 'CS', 'LOB', 'Players Used', 'BA', 'OBP', 'SLG', 'OPS', 'Opp Starter Thr']]\n",
    "data.loc[:, 'Runs Against':'Players Used'] = data.loc[:, 'Runs Against':'Players Used'].apply(pd.to_numeric)\n",
    "data.loc[:, 'BA':'OPS'] = data.loc[:, 'BA':'OPS'].apply(pd.to_numeric)\n",
    "data.sort_values(by=['game_id'])"
   ]
  },
  {
   "cell_type": "code",
   "execution_count": 139,
   "metadata": {},
   "outputs": [
    {
     "output_type": "execute_result",
     "data": {
      "text/plain": "'NL_East'"
     },
     "metadata": {},
     "execution_count": 139
    }
   ],
   "source": [
    "tree = html.fromstring(response.content)\n",
    "tree.xpath('//div/div/div/div[contains(@data-template, \\'Partials/Teams/Summary\\')]/p[strong[contains(text(), \\'Record\\')]]/a/text()')[0]"
   ]
  },
  {
   "cell_type": "code",
   "execution_count": null,
   "metadata": {},
   "outputs": [],
   "source": [
    "def insert_batting(conn, data, game_id):\n",
    "    batting_query = []\n",
    "    for team in ['home', 'away']:\n",
    "        batting_data = data[team]['teamStats']['batting']\n",
    "        singles = batting_data['hits'] - (batting_data['doubles'] + batting_data['triples'] + batting_data['homeRuns'])\n",
    "        for stat in ['avg', 'obp', 'slg', 'ops', 'stolenBasePercentage']:\n",
    "            batting_data[stat] = float(batting_data[stat]) if batting_data[stat] != '.---' else None\n",
    "        batting_data = list(batting_data.values())[:-1]\n",
    "        batting_query.append((game_id, data[team]['team']['id'], *batting_data, singles))\n",
    "    # Insert into Batting table for game\n",
    "    batting_box_score = '''\n",
    "    INSERT INTO BattingGame (\n",
    "        game_id,\n",
    "        team_id,\n",
    "        fly_outs,\n",
    "        ground_outs,\n",
    "        runs,\n",
    "        doubles,\n",
    "        triples,\n",
    "        home_runs,\n",
    "        strike_outs,\n",
    "        walks,\n",
    "        intentional_walks,\n",
    "        hits,\n",
    "        hit_by_pitch,\n",
    "        BA,\n",
    "        AB,\n",
    "        OBP,\n",
    "        SLG,\n",
    "        OPS,\n",
    "        caught_stealing,\n",
    "        bases_stolen,\n",
    "        stolen_base_percentage,\n",
    "        ground_into_double_play,\n",
    "        ground_into_triple_play,\n",
    "        plate_appearances,\n",
    "        total_bases,\n",
    "        RBI,\n",
    "        LOB,\n",
    "        sac_bunts,\n",
    "        sac_flies,\n",
    "        catchers_interference,\n",
    "        pickoffs,\n",
    "        singles)\n",
    "    VALUES (?,?,?,?,?,?,?,?,?,?,?,?,?,?,?,?,?,?,?,?,?,?,?,?,?,?,?,?,?,?,?,?)'''\n",
    "    try:\n",
    "        conn.cursor().executemany(batting_box_score, batting_query)\n",
    "        conn.commit()\n",
    "    except sqlite3.IntegrityError:\n",
    "        print('Game already added')\n",
    "    except Exception as e:\n",
    "        db_error_cleanup(conn, e)\n",
    "\n",
    "\n",
    "def insert_pitching(conn, data, game_id):\n",
    "    pitching_query = []\n",
    "    for team in ['home', 'away']:\n",
    "        pitching_data = data[team]['teamStats']['pitching']\n",
    "        singles = pitching_data['hits'] - (pitching_data['doubles'] + pitching_data['triples'] + pitching_data['homeRuns'])\n",
    "        for stat in ['obp', 'era', 'inningsPitched', 'stolenBasePercentage', 'whip']:\n",
    "            pitching_data[stat] = float(pitching_data[stat]) if pitching_data[stat] != '.---' else None\n",
    "        for stat in ['hitBatsmen', 'groundOutsToAirouts', 'runsScoredPer9', 'homeRunsPer9']:\n",
    "            pitching_data.pop(stat)\n",
    "        pitching_data = list(pitching_data.values())\n",
    "        pitching_query.append((game_id, data[team]['team']['id'], *pitching_data, singles))\n",
    "    # Insert into Pitching table for game\n",
    "    pitching_box_score = '''\n",
    "    INSERT INTO PitchingGame (\n",
    "        game_id,\n",
    "        team_id,\n",
    "        ground_outs,\n",
    "        air_outs,\n",
    "        runs,\n",
    "        doubles,\n",
    "        triples,\n",
    "        home_runs,\n",
    "        strike_outs,\n",
    "        walks,\n",
    "        intentional_walks,\n",
    "        hits,\n",
    "        hit_by_pitch,\n",
    "        AB,\n",
    "        OBP,\n",
    "        caught_stealing,\n",
    "        stolen_bases,\n",
    "        stolen_base_percentage,\n",
    "        ERA,\n",
    "        IP,\n",
    "        save_oppurtunities,\n",
    "        earned_runs,\n",
    "        WHIP,\n",
    "        batter_faced,\n",
    "        outs,\n",
    "        complete_games,\n",
    "        shutouts,\n",
    "        balks,\n",
    "        wild_pitches,\n",
    "        pickoffs,\n",
    "        RBI,\n",
    "        inherited_runners,\n",
    "        inherited_runners_scored,\n",
    "        catchers_interference,\n",
    "        sac_bunts,\n",
    "        sac_flies,\n",
    "        singles)\n",
    "    VALUES (?,?,?,?,?,?,?,?,?,?,?,?,?,?,?,?,?,?,?,?,?,?,?,?,?,?,?,?,?,?,?,?,?,?,?,?,?)'''\n",
    "    try:\n",
    "        conn.cursor().executemany(pitching_box_score, pitching_query)\n",
    "        conn.commit()\n",
    "    except sqlite3.IntegrityError:\n",
    "        print('Game already added')\n",
    "    except Exception as e:\n",
    "        db_error_cleanup(conn, e)"
   ]
  },
  {
   "cell_type": "code",
   "execution_count": 146,
   "metadata": {},
   "outputs": [],
   "source": [
    "import sqlite3\n",
    "\n",
    "conn = sqlite3.connect('TestDB1.db')\n",
    "c = conn.cursor()\n",
    "\n",
    "c.execute('CREATE TABLE CARS (Brand text, Price number)')\n",
    "conn.commit()\n",
    "\n",
    "Cars = {'Brand': ['Honda Civic','Toyota Corolla','Ford Focus','Audi A4'],\n",
    "        'Price': [22000,25000,27000,35000]\n",
    "        }\n",
    "\n",
    "df = pd.DataFrame(Cars, columns= ['Brand', 'Price'])\n",
    "df.to_sql('CARS', conn, if_exists='replace', index = False)"
   ]
  },
  {
   "cell_type": "code",
   "execution_count": null,
   "metadata": {},
   "outputs": [],
   "source": []
  }
 ],
 "metadata": {
  "language_info": {
   "codemirror_mode": {
    "name": "ipython",
    "version": 3
   },
   "file_extension": ".py",
   "mimetype": "text/x-python",
   "name": "python",
   "nbconvert_exporter": "python",
   "pygments_lexer": "ipython3",
   "version": 3
  },
  "orig_nbformat": 2,
  "kernelspec": {
   "name": "python_defaultSpec_1601918151214",
   "display_name": "Python 3.8.2 64-bit"
  }
 },
 "nbformat": 4,
 "nbformat_minor": 2
}